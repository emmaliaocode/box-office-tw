{
 "cells": [
  {
   "cell_type": "code",
   "execution_count": 1,
   "id": "a2583106-0157-4b58-b79e-26226f2decae",
   "metadata": {},
   "outputs": [],
   "source": [
    "import matplotlib.pyplot as plt\n",
    "import pandas as pd\n",
    "import os"
   ]
  },
  {
   "cell_type": "markdown",
   "id": "2c86e86f-690a-4c61-b296-684050a231c0",
   "metadata": {},
   "source": [
    "## 資料匯入"
   ]
  },
  {
   "cell_type": "code",
   "execution_count": 2,
   "id": "da535f88-060a-41cb-a8ec-6cffd00b7603",
   "metadata": {},
   "outputs": [
    {
     "data": {
      "text/plain": [
       "26"
      ]
     },
     "execution_count": 2,
     "metadata": {},
     "output_type": "execute_result"
    }
   ],
   "source": [
    "dflist=[]\n",
    "for f in os.listdir('data'):\n",
    "    path = '/Users/wanyuliao/Documents/SideProject/taiwan_box_office_statistic/data/{}'\n",
    "    df = pd.read_csv(path.format(f))\n",
    "    dflist.append(df)\n",
    "len(dflist)"
   ]
  },
  {
   "cell_type": "code",
   "execution_count": 3,
   "id": "252349cb-03a0-401d-bff6-9cb1a9e90d12",
   "metadata": {},
   "outputs": [],
   "source": [
    "movie_all = pd.concat(dflist, axis=0)"
   ]
  },
  {
   "cell_type": "markdown",
   "id": "24008f7c-d2ef-404b-a6d9-a8381ad8407c",
   "metadata": {},
   "source": [
    "## 資料前處理"
   ]
  },
  {
   "cell_type": "code",
   "execution_count": 4,
   "id": "4444df2a-d555-40a9-bd99-362a2cdcc6f9",
   "metadata": {},
   "outputs": [],
   "source": [
    "dt = movie_all[['上映日期', '中文片名', '國別地區', '累計銷售票數', '累計銷售金額']].copy()"
   ]
  },
  {
   "cell_type": "code",
   "execution_count": 5,
   "id": "5f9d2f37-727f-4e4a-90dd-e949cdf05311",
   "metadata": {},
   "outputs": [],
   "source": [
    "dt['上映日期'] = pd.to_datetime(dt['上映日期']) #轉換為日期格式\n",
    "dt2 = dt[(dt['上映日期'] > '2018-03-23') & (dt['上映日期'] <= '2019-03-23')] #撈出一年內上映的電影\n",
    "dt3 = dt2.sort_values(['中文片名', '累計銷售金額'], ascending = False) #排序:依'中文片名'、'累計銷售金額'排序"
   ]
  },
  {
   "cell_type": "code",
   "execution_count": 6,
   "id": "00ed25a3-1c0f-40a5-9bdf-ebbec904603e",
   "metadata": {},
   "outputs": [
    {
     "data": {
      "text/html": [
       "<div>\n",
       "<style scoped>\n",
       "    .dataframe tbody tr th:only-of-type {\n",
       "        vertical-align: middle;\n",
       "    }\n",
       "\n",
       "    .dataframe tbody tr th {\n",
       "        vertical-align: top;\n",
       "    }\n",
       "\n",
       "    .dataframe thead th {\n",
       "        text-align: right;\n",
       "    }\n",
       "</style>\n",
       "<table border=\"1\" class=\"dataframe\">\n",
       "  <thead>\n",
       "    <tr style=\"text-align: right;\">\n",
       "      <th></th>\n",
       "      <th>上映日期</th>\n",
       "      <th>中文片名</th>\n",
       "      <th>國別地區</th>\n",
       "      <th>累計銷售票數</th>\n",
       "      <th>累計銷售金額</th>\n",
       "    </tr>\n",
       "  </thead>\n",
       "  <tbody>\n",
       "    <tr>\n",
       "      <th>19</th>\n",
       "      <td>2018-11-23</td>\n",
       "      <td>龐克武士</td>\n",
       "      <td>日本</td>\n",
       "      <td>1,043</td>\n",
       "      <td>222,743</td>\n",
       "    </tr>\n",
       "    <tr>\n",
       "      <th>5</th>\n",
       "      <td>2018-11-23</td>\n",
       "      <td>龐克武士</td>\n",
       "      <td>日本</td>\n",
       "      <td>981</td>\n",
       "      <td>209,668</td>\n",
       "    </tr>\n",
       "    <tr>\n",
       "      <th>86</th>\n",
       "      <td>2018-09-21</td>\n",
       "      <td>黃金兄弟</td>\n",
       "      <td>香港</td>\n",
       "      <td>70,468</td>\n",
       "      <td>15,840,146</td>\n",
       "    </tr>\n",
       "    <tr>\n",
       "      <th>74</th>\n",
       "      <td>2018-09-21</td>\n",
       "      <td>黃金兄弟</td>\n",
       "      <td>香港</td>\n",
       "      <td>70,428</td>\n",
       "      <td>15,834,546</td>\n",
       "    </tr>\n",
       "    <tr>\n",
       "      <th>79</th>\n",
       "      <td>2018-09-21</td>\n",
       "      <td>黃金兄弟</td>\n",
       "      <td>香港</td>\n",
       "      <td>70,050</td>\n",
       "      <td>15,790,941</td>\n",
       "    </tr>\n",
       "  </tbody>\n",
       "</table>\n",
       "</div>"
      ],
      "text/plain": [
       "         上映日期  中文片名 國別地區  累計銷售票數      累計銷售金額\n",
       "19 2018-11-23  龐克武士   日本   1,043     222,743\n",
       "5  2018-11-23  龐克武士   日本     981     209,668\n",
       "86 2018-09-21  黃金兄弟   香港  70,468  15,840,146\n",
       "74 2018-09-21  黃金兄弟   香港  70,428  15,834,546\n",
       "79 2018-09-21  黃金兄弟   香港  70,050  15,790,941"
      ]
     },
     "execution_count": 6,
     "metadata": {},
     "output_type": "execute_result"
    }
   ],
   "source": [
    "dt3.head()\n",
    "#dt2.to_csv('dt2.csv') #輸出"
   ]
  },
  {
   "cell_type": "code",
   "execution_count": 7,
   "id": "b92eb91e-57b1-4896-bb09-d27262c9498a",
   "metadata": {},
   "outputs": [],
   "source": [
    "dt4 = dt3.drop_duplicates(subset = '中文片名', keep = 'last') #去除重複資料並留下'累計銷售金額'較高的列"
   ]
  },
  {
   "cell_type": "code",
   "execution_count": 8,
   "id": "60853d4b-801c-4504-be2a-5f65516589cb",
   "metadata": {},
   "outputs": [
    {
     "data": {
      "text/html": [
       "<div>\n",
       "<style scoped>\n",
       "    .dataframe tbody tr th:only-of-type {\n",
       "        vertical-align: middle;\n",
       "    }\n",
       "\n",
       "    .dataframe tbody tr th {\n",
       "        vertical-align: top;\n",
       "    }\n",
       "\n",
       "    .dataframe thead th {\n",
       "        text-align: right;\n",
       "    }\n",
       "</style>\n",
       "<table border=\"1\" class=\"dataframe\">\n",
       "  <thead>\n",
       "    <tr style=\"text-align: right;\">\n",
       "      <th></th>\n",
       "      <th>上映日期</th>\n",
       "      <th>中文片名</th>\n",
       "      <th>國別地區</th>\n",
       "      <th>累計銷售票數</th>\n",
       "      <th>累計銷售金額</th>\n",
       "    </tr>\n",
       "  </thead>\n",
       "  <tbody>\n",
       "    <tr>\n",
       "      <th>5</th>\n",
       "      <td>2018-11-23</td>\n",
       "      <td>龐克武士</td>\n",
       "      <td>日本</td>\n",
       "      <td>981</td>\n",
       "      <td>209,668</td>\n",
       "    </tr>\n",
       "    <tr>\n",
       "      <th>29</th>\n",
       "      <td>2018-09-21</td>\n",
       "      <td>黃金兄弟</td>\n",
       "      <td>香港</td>\n",
       "      <td>65,731</td>\n",
       "      <td>15,097,533</td>\n",
       "    </tr>\n",
       "    <tr>\n",
       "      <th>29</th>\n",
       "      <td>2018-08-17</td>\n",
       "      <td>黃昏清兵衛</td>\n",
       "      <td>日本</td>\n",
       "      <td>579</td>\n",
       "      <td>121,075</td>\n",
       "    </tr>\n",
       "    <tr>\n",
       "      <th>44</th>\n",
       "      <td>2018-09-21</td>\n",
       "      <td>麵包超人電影版閃耀吧！庫倫與生命之星</td>\n",
       "      <td>日本</td>\n",
       "      <td>4,444</td>\n",
       "      <td>1,005,829</td>\n",
       "    </tr>\n",
       "    <tr>\n",
       "      <th>41</th>\n",
       "      <td>2018-09-21</td>\n",
       "      <td>鳥男孩</td>\n",
       "      <td>西班牙</td>\n",
       "      <td>82</td>\n",
       "      <td>18,330</td>\n",
       "    </tr>\n",
       "  </tbody>\n",
       "</table>\n",
       "</div>"
      ],
      "text/plain": [
       "         上映日期                中文片名 國別地區  累計銷售票數      累計銷售金額\n",
       "5  2018-11-23                龐克武士   日本     981     209,668\n",
       "29 2018-09-21                黃金兄弟   香港  65,731  15,097,533\n",
       "29 2018-08-17               黃昏清兵衛   日本     579     121,075\n",
       "44 2018-09-21  麵包超人電影版閃耀吧！庫倫與生命之星   日本   4,444   1,005,829\n",
       "41 2018-09-21                 鳥男孩  西班牙      82      18,330"
      ]
     },
     "execution_count": 8,
     "metadata": {},
     "output_type": "execute_result"
    }
   ],
   "source": [
    "dt4.head()"
   ]
  },
  {
   "cell_type": "code",
   "execution_count": 9,
   "id": "79b1696f-6519-42c3-9e9b-462d1df29f10",
   "metadata": {},
   "outputs": [
    {
     "name": "stderr",
     "output_type": "stream",
     "text": [
      "/var/folders/xn/cmr1j3fn0kn38hddltd4kh1r0000gn/T/ipykernel_4828/1159370101.py:1: SettingWithCopyWarning: \n",
      "A value is trying to be set on a copy of a slice from a DataFrame.\n",
      "Try using .loc[row_indexer,col_indexer] = value instead\n",
      "\n",
      "See the caveats in the documentation: https://pandas.pydata.org/pandas-docs/stable/user_guide/indexing.html#returning-a-view-versus-a-copy\n",
      "  dt4['累計銷售票數'] = dt4['累計銷售票數'].apply(lambda x: x.replace(',', '')).astype(\"int\")\n",
      "/var/folders/xn/cmr1j3fn0kn38hddltd4kh1r0000gn/T/ipykernel_4828/1159370101.py:2: SettingWithCopyWarning: \n",
      "A value is trying to be set on a copy of a slice from a DataFrame.\n",
      "Try using .loc[row_indexer,col_indexer] = value instead\n",
      "\n",
      "See the caveats in the documentation: https://pandas.pydata.org/pandas-docs/stable/user_guide/indexing.html#returning-a-view-versus-a-copy\n",
      "  dt4['累計銷售金額'] = dt4['累計銷售金額'].apply(lambda x: x.replace(',', '')).astype(\"float\")\n"
     ]
    }
   ],
   "source": [
    "dt4['累計銷售票數'] = dt4['累計銷售票數'].apply(lambda x: x.replace(',', '')).astype(\"int\")\n",
    "dt4['累計銷售金額'] = dt4['累計銷售金額'].apply(lambda x: x.replace(',', '')).astype(\"float\")"
   ]
  },
  {
   "cell_type": "markdown",
   "id": "c1cf1e32-3729-4752-9afe-c8c8af3fd1ab",
   "metadata": {},
   "source": [
    "---"
   ]
  },
  {
   "cell_type": "markdown",
   "id": "aae82717-1903-4a8d-a4a8-e8db95e3a2bf",
   "metadata": {},
   "source": [
    "## 台灣上映的電影都是來自哪些國家？"
   ]
  },
  {
   "cell_type": "code",
   "execution_count": 10,
   "id": "bc05bf11-8a9b-4369-9a73-7e97a9ae1049",
   "metadata": {},
   "outputs": [],
   "source": [
    "import matplotlib as mpl\n",
    "mpl.rcParams['font.family'] = ['Heiti TC']"
   ]
  },
  {
   "cell_type": "code",
   "execution_count": 11,
   "id": "181eb8c5-b782-448e-9274-2cbf0c67a017",
   "metadata": {},
   "outputs": [],
   "source": [
    "country = dt4['國別地區'].value_counts()"
   ]
  },
  {
   "cell_type": "code",
   "execution_count": 12,
   "id": "200fe327-fda5-458a-b30d-42dd049f9130",
   "metadata": {},
   "outputs": [],
   "source": [
    "country['其他'] = country[country < 10].sum()\n",
    "country_plt = country[country > 10]"
   ]
  },
  {
   "cell_type": "code",
   "execution_count": 13,
   "id": "08382777-b714-4770-b433-f02c2da98218",
   "metadata": {},
   "outputs": [
    {
     "data": {
      "text/plain": [
       "<AxesSubplot: title={'center': '在台灣上映的電影都是來自哪些國家？'}, ylabel='國別地區'>"
      ]
     },
     "execution_count": 13,
     "metadata": {},
     "output_type": "execute_result"
    },
    {
     "data": {
      "image/png": "[encoded data removed]",
      "text/plain": [
       "<Figure size 600x600 with 1 Axes>"
      ]
     },
     "metadata": {},
     "output_type": "display_data"
    }
   ],
   "source": [
    "country_plt.plot(kind = 'pie', figsize = (6, 6), title = '在台灣上映的電影都是來自哪些國家？', \n",
    "                 autopct = '%1.0f%%', cmap = 'Set3', fontsize = 12)"
   ]
  },
  {
   "cell_type": "markdown",
   "id": "d6511e18-33ef-42a4-a0a1-01383519bf20",
   "metadata": {},
   "source": [
    "---"
   ]
  },
  {
   "cell_type": "markdown",
   "id": "c251162f-a6eb-4ea7-8443-07f6cab8afbb",
   "metadata": {},
   "source": [
    "## 過去一年內票房排行前20名的電影"
   ]
  },
  {
   "cell_type": "code",
   "execution_count": 14,
   "id": "f1c40f90-ec55-43ce-8ae7-34ab4c96f1fb",
   "metadata": {},
   "outputs": [],
   "source": [
    "top20movies = dt4.sort_values('累計銷售金額', ascending=False)[:20]"
   ]
  },
  {
   "cell_type": "code",
   "execution_count": 15,
   "id": "3182dd79-4a00-4d9a-87b8-80303b3405fe",
   "metadata": {},
   "outputs": [
    {
     "data": {
      "text/html": [
       "<div>\n",
       "<style scoped>\n",
       "    .dataframe tbody tr th:only-of-type {\n",
       "        vertical-align: middle;\n",
       "    }\n",
       "\n",
       "    .dataframe tbody tr th {\n",
       "        vertical-align: top;\n",
       "    }\n",
       "\n",
       "    .dataframe thead th {\n",
       "        text-align: right;\n",
       "    }\n",
       "</style>\n",
       "<table border=\"1\" class=\"dataframe\">\n",
       "  <thead>\n",
       "    <tr style=\"text-align: right;\">\n",
       "      <th></th>\n",
       "      <th>上映日期</th>\n",
       "      <th>中文片名</th>\n",
       "      <th>國別地區</th>\n",
       "      <th>累計銷售票數</th>\n",
       "      <th>累計銷售金額</th>\n",
       "    </tr>\n",
       "  </thead>\n",
       "  <tbody>\n",
       "    <tr>\n",
       "      <th>68</th>\n",
       "      <td>2018-04-25</td>\n",
       "      <td>復仇者聯盟：無限之戰</td>\n",
       "      <td>美國</td>\n",
       "      <td>2595884</td>\n",
       "      <td>641712235.0</td>\n",
       "    </tr>\n",
       "    <tr>\n",
       "      <th>58</th>\n",
       "      <td>2018-06-06</td>\n",
       "      <td>侏羅紀世界:殞落國度</td>\n",
       "      <td>美國</td>\n",
       "      <td>2547815</td>\n",
       "      <td>621196489.0</td>\n",
       "    </tr>\n",
       "    <tr>\n",
       "      <th>32</th>\n",
       "      <td>2018-08-08</td>\n",
       "      <td>與神同行：最終審判</td>\n",
       "      <td>南韓</td>\n",
       "      <td>1963535</td>\n",
       "      <td>469136454.0</td>\n",
       "    </tr>\n",
       "    <tr>\n",
       "      <th>37</th>\n",
       "      <td>2018-07-25</td>\n",
       "      <td>不可能的任務：全面瓦解</td>\n",
       "      <td>美國</td>\n",
       "      <td>1860510</td>\n",
       "      <td>441099147.0</td>\n",
       "    </tr>\n",
       "    <tr>\n",
       "      <th>70</th>\n",
       "      <td>2018-03-29</td>\n",
       "      <td>一級玩家</td>\n",
       "      <td>美國</td>\n",
       "      <td>1415734</td>\n",
       "      <td>361830647.0</td>\n",
       "    </tr>\n",
       "    <tr>\n",
       "      <th>75</th>\n",
       "      <td>2018-07-04</td>\n",
       "      <td>蟻人與黃蜂女</td>\n",
       "      <td>美國</td>\n",
       "      <td>1260286</td>\n",
       "      <td>296127544.0</td>\n",
       "    </tr>\n",
       "    <tr>\n",
       "      <th>66</th>\n",
       "      <td>2018-05-15</td>\n",
       "      <td>死侍2</td>\n",
       "      <td>美國</td>\n",
       "      <td>1228427</td>\n",
       "      <td>287616545.0</td>\n",
       "    </tr>\n",
       "    <tr>\n",
       "      <th>8</th>\n",
       "      <td>2018-12-12</td>\n",
       "      <td>水行俠</td>\n",
       "      <td>美國</td>\n",
       "      <td>1124799</td>\n",
       "      <td>274177000.0</td>\n",
       "    </tr>\n",
       "    <tr>\n",
       "      <th>51</th>\n",
       "      <td>2018-06-27</td>\n",
       "      <td>超人特攻隊2</td>\n",
       "      <td>美國</td>\n",
       "      <td>1136039</td>\n",
       "      <td>259364967.0</td>\n",
       "    </tr>\n",
       "    <tr>\n",
       "      <th>11</th>\n",
       "      <td>2018-10-03</td>\n",
       "      <td>猛毒</td>\n",
       "      <td>美國</td>\n",
       "      <td>958400</td>\n",
       "      <td>223780861.0</td>\n",
       "    </tr>\n",
       "    <tr>\n",
       "      <th>1</th>\n",
       "      <td>2019-02-05</td>\n",
       "      <td>艾莉塔：戰鬥天使</td>\n",
       "      <td>美國</td>\n",
       "      <td>827011</td>\n",
       "      <td>209920582.0</td>\n",
       "    </tr>\n",
       "    <tr>\n",
       "      <th>10</th>\n",
       "      <td>2018-11-15</td>\n",
       "      <td>怪獸與葛林戴華德的罪行</td>\n",
       "      <td>美國</td>\n",
       "      <td>790983</td>\n",
       "      <td>191544653.0</td>\n",
       "    </tr>\n",
       "    <tr>\n",
       "      <th>46</th>\n",
       "      <td>2018-07-12</td>\n",
       "      <td>摩天大樓</td>\n",
       "      <td>美國</td>\n",
       "      <td>799815</td>\n",
       "      <td>187004802.0</td>\n",
       "    </tr>\n",
       "    <tr>\n",
       "      <th>30</th>\n",
       "      <td>2018-08-10</td>\n",
       "      <td>巨齒鯊</td>\n",
       "      <td>美國</td>\n",
       "      <td>680727</td>\n",
       "      <td>159703507.0</td>\n",
       "    </tr>\n",
       "    <tr>\n",
       "      <th>57</th>\n",
       "      <td>2018-06-14</td>\n",
       "      <td>瞞天過海:八面玲瓏</td>\n",
       "      <td>美國</td>\n",
       "      <td>612087</td>\n",
       "      <td>142085011.0</td>\n",
       "    </tr>\n",
       "    <tr>\n",
       "      <th>22</th>\n",
       "      <td>2018-11-18</td>\n",
       "      <td>比悲傷更悲傷的故事</td>\n",
       "      <td>中華民國</td>\n",
       "      <td>545308</td>\n",
       "      <td>125683925.0</td>\n",
       "    </tr>\n",
       "    <tr>\n",
       "      <th>10</th>\n",
       "      <td>2019-01-30</td>\n",
       "      <td>馴龍高手3</td>\n",
       "      <td>美國</td>\n",
       "      <td>526694</td>\n",
       "      <td>124048377.0</td>\n",
       "    </tr>\n",
       "    <tr>\n",
       "      <th>9</th>\n",
       "      <td>2018-12-26</td>\n",
       "      <td>大黃蜂</td>\n",
       "      <td>美國</td>\n",
       "      <td>497417</td>\n",
       "      <td>120981712.0</td>\n",
       "    </tr>\n",
       "    <tr>\n",
       "      <th>25</th>\n",
       "      <td>2018-10-09</td>\n",
       "      <td>一個巨星的誕生</td>\n",
       "      <td>美國</td>\n",
       "      <td>492954</td>\n",
       "      <td>115916510.0</td>\n",
       "    </tr>\n",
       "    <tr>\n",
       "      <th>29</th>\n",
       "      <td>2018-11-29</td>\n",
       "      <td>無敵破壞王2：網路大暴走</td>\n",
       "      <td>美國</td>\n",
       "      <td>490967</td>\n",
       "      <td>113612432.0</td>\n",
       "    </tr>\n",
       "  </tbody>\n",
       "</table>\n",
       "</div>"
      ],
      "text/plain": [
       "         上映日期          中文片名  國別地區   累計銷售票數       累計銷售金額\n",
       "68 2018-04-25    復仇者聯盟：無限之戰    美國  2595884  641712235.0\n",
       "58 2018-06-06    侏羅紀世界:殞落國度    美國  2547815  621196489.0\n",
       "32 2018-08-08     與神同行：最終審判    南韓  1963535  469136454.0\n",
       "37 2018-07-25   不可能的任務：全面瓦解    美國  1860510  441099147.0\n",
       "70 2018-03-29          一級玩家    美國  1415734  361830647.0\n",
       "75 2018-07-04        蟻人與黃蜂女    美國  1260286  296127544.0\n",
       "66 2018-05-15           死侍2    美國  1228427  287616545.0\n",
       "8  2018-12-12           水行俠    美國  1124799  274177000.0\n",
       "51 2018-06-27        超人特攻隊2    美國  1136039  259364967.0\n",
       "11 2018-10-03            猛毒    美國   958400  223780861.0\n",
       "1  2019-02-05      艾莉塔：戰鬥天使    美國   827011  209920582.0\n",
       "10 2018-11-15   怪獸與葛林戴華德的罪行    美國   790983  191544653.0\n",
       "46 2018-07-12          摩天大樓    美國   799815  187004802.0\n",
       "30 2018-08-10           巨齒鯊    美國   680727  159703507.0\n",
       "57 2018-06-14     瞞天過海:八面玲瓏    美國   612087  142085011.0\n",
       "22 2018-11-18     比悲傷更悲傷的故事  中華民國   545308  125683925.0\n",
       "10 2019-01-30         馴龍高手3    美國   526694  124048377.0\n",
       "9  2018-12-26           大黃蜂    美國   497417  120981712.0\n",
       "25 2018-10-09       一個巨星的誕生    美國   492954  115916510.0\n",
       "29 2018-11-29  無敵破壞王2：網路大暴走    美國   490967  113612432.0"
      ]
     },
     "execution_count": 15,
     "metadata": {},
     "output_type": "execute_result"
    }
   ],
   "source": [
    "top20movies"
   ]
  },
  {
   "cell_type": "markdown",
   "id": "959e7c84-5d88-4ef8-8902-ee362a9108bf",
   "metadata": {},
   "source": [
    "---"
   ]
  },
  {
   "cell_type": "markdown",
   "id": "bae20994-0e94-4ef2-a2ab-bedece31ca8d",
   "metadata": {},
   "source": [
    "## 2019過了三個月，目前票房排名前10名的電影"
   ]
  },
  {
   "cell_type": "code",
   "execution_count": 16,
   "id": "1e381b8e-5d89-430b-b746-d54e91d7af9a",
   "metadata": {},
   "outputs": [],
   "source": [
    "dt5 = dt4[(dt4['上映日期'] > '2019-01-01') & (dt4['上映日期'] <= '2019-03-23')] #撈出今年到目前上映的電影\n",
    "dt6 = dt5.sort_values(['中文片名'], ascending = False)"
   ]
  },
  {
   "cell_type": "code",
   "execution_count": 17,
   "id": "ff096f47-77f6-4cb8-be8a-cc576cc5d6d4",
   "metadata": {},
   "outputs": [],
   "source": [
    "dt7 = dt6.drop_duplicates(subset = '中文片名', keep = 'last')"
   ]
  },
  {
   "cell_type": "code",
   "execution_count": 18,
   "id": "39ac5250-336b-4fb8-b7d5-b5dec9054629",
   "metadata": {},
   "outputs": [],
   "source": [
    "top10in2019 = dt7.sort_values('累計銷售金額', ascending = False)[:10]"
   ]
  },
  {
   "cell_type": "code",
   "execution_count": 19,
   "id": "91d8d5ec-8178-4d6a-8f61-dfa90ff551cc",
   "metadata": {},
   "outputs": [
    {
     "data": {
      "text/html": [
       "<div>\n",
       "<style scoped>\n",
       "    .dataframe tbody tr th:only-of-type {\n",
       "        vertical-align: middle;\n",
       "    }\n",
       "\n",
       "    .dataframe tbody tr th {\n",
       "        vertical-align: top;\n",
       "    }\n",
       "\n",
       "    .dataframe thead th {\n",
       "        text-align: right;\n",
       "    }\n",
       "</style>\n",
       "<table border=\"1\" class=\"dataframe\">\n",
       "  <thead>\n",
       "    <tr style=\"text-align: right;\">\n",
       "      <th></th>\n",
       "      <th>上映日期</th>\n",
       "      <th>中文片名</th>\n",
       "      <th>國別地區</th>\n",
       "      <th>累計銷售票數</th>\n",
       "      <th>累計銷售金額</th>\n",
       "    </tr>\n",
       "  </thead>\n",
       "  <tbody>\n",
       "    <tr>\n",
       "      <th>1</th>\n",
       "      <td>2019-02-05</td>\n",
       "      <td>艾莉塔：戰鬥天使</td>\n",
       "      <td>美國</td>\n",
       "      <td>827011</td>\n",
       "      <td>209920582.0</td>\n",
       "    </tr>\n",
       "    <tr>\n",
       "      <th>10</th>\n",
       "      <td>2019-01-30</td>\n",
       "      <td>馴龍高手3</td>\n",
       "      <td>美國</td>\n",
       "      <td>526694</td>\n",
       "      <td>124048377.0</td>\n",
       "    </tr>\n",
       "    <tr>\n",
       "      <th>13</th>\n",
       "      <td>2019-01-16</td>\n",
       "      <td>異裂</td>\n",
       "      <td>美國</td>\n",
       "      <td>295523</td>\n",
       "      <td>68702124.0</td>\n",
       "    </tr>\n",
       "    <tr>\n",
       "      <th>0</th>\n",
       "      <td>2019-02-22</td>\n",
       "      <td>雞不可失</td>\n",
       "      <td>南韓</td>\n",
       "      <td>219061</td>\n",
       "      <td>50489186.0</td>\n",
       "    </tr>\n",
       "    <tr>\n",
       "      <th>16</th>\n",
       "      <td>2019-01-23</td>\n",
       "      <td>寒單</td>\n",
       "      <td>中華民國</td>\n",
       "      <td>128209</td>\n",
       "      <td>28627705.0</td>\n",
       "    </tr>\n",
       "    <tr>\n",
       "      <th>4</th>\n",
       "      <td>2019-02-14</td>\n",
       "      <td>祝你忌日快樂</td>\n",
       "      <td>美國</td>\n",
       "      <td>103802</td>\n",
       "      <td>23847629.0</td>\n",
       "    </tr>\n",
       "    <tr>\n",
       "      <th>1</th>\n",
       "      <td>2019-02-22</td>\n",
       "      <td>七龍珠‧超布羅利</td>\n",
       "      <td>日本</td>\n",
       "      <td>75611</td>\n",
       "      <td>22826838.0</td>\n",
       "    </tr>\n",
       "    <tr>\n",
       "      <th>2</th>\n",
       "      <td>2019-02-27</td>\n",
       "      <td>酷寒殺手</td>\n",
       "      <td>美國</td>\n",
       "      <td>100942</td>\n",
       "      <td>22779934.0</td>\n",
       "    </tr>\n",
       "    <tr>\n",
       "      <th>2</th>\n",
       "      <td>2019-02-01</td>\n",
       "      <td>大三元</td>\n",
       "      <td>中華民國</td>\n",
       "      <td>91211</td>\n",
       "      <td>20492889.0</td>\n",
       "    </tr>\n",
       "    <tr>\n",
       "      <th>1</th>\n",
       "      <td>2019-02-27</td>\n",
       "      <td>密弑遊戲</td>\n",
       "      <td>美國</td>\n",
       "      <td>78527</td>\n",
       "      <td>17933111.0</td>\n",
       "    </tr>\n",
       "  </tbody>\n",
       "</table>\n",
       "</div>"
      ],
      "text/plain": [
       "         上映日期      中文片名  國別地區  累計銷售票數       累計銷售金額\n",
       "1  2019-02-05  艾莉塔：戰鬥天使    美國  827011  209920582.0\n",
       "10 2019-01-30     馴龍高手3    美國  526694  124048377.0\n",
       "13 2019-01-16        異裂    美國  295523   68702124.0\n",
       "0  2019-02-22      雞不可失    南韓  219061   50489186.0\n",
       "16 2019-01-23        寒單  中華民國  128209   28627705.0\n",
       "4  2019-02-14    祝你忌日快樂    美國  103802   23847629.0\n",
       "1  2019-02-22  七龍珠‧超布羅利    日本   75611   22826838.0\n",
       "2  2019-02-27      酷寒殺手    美國  100942   22779934.0\n",
       "2  2019-02-01       大三元  中華民國   91211   20492889.0\n",
       "1  2019-02-27      密弑遊戲    美國   78527   17933111.0"
      ]
     },
     "execution_count": 19,
     "metadata": {},
     "output_type": "execute_result"
    }
   ],
   "source": [
    "top10in2019"
   ]
  },
  {
   "cell_type": "markdown",
   "id": "9f307055-66c9-47f3-bb70-e676f507d306",
   "metadata": {},
   "source": [
    "---"
   ]
  },
  {
   "cell_type": "markdown",
   "id": "eb4b5b30-b2c7-481b-8943-9ee5ca48c9db",
   "metadata": {},
   "source": [
    "## 在台灣看一部電影平均要花多少錢？"
   ]
  },
  {
   "cell_type": "code",
   "execution_count": 20,
   "id": "77ba2946-c889-4085-bd3d-04e2b35af127",
   "metadata": {},
   "outputs": [
    {
     "name": "stdout",
     "output_type": "stream",
     "text": [
      "在台灣，平均花 236.74 元就可以看一部電影！\n"
     ]
    }
   ],
   "source": [
    "cost = dt4['累計銷售金額'].sum()\n",
    "ticket = dt4['累計銷售票數'].sum()\n",
    "spend = cost/ticket\n",
    "print(f'在台灣，平均花 {spend:.2f} 元就可以看一部電影！')"
   ]
  },
  {
   "cell_type": "code",
   "execution_count": null,
   "id": "76ef17f0-0a15-4412-be75-ff4737b7dc51",
   "metadata": {},
   "outputs": [],
   "source": []
  }
 ],
 "metadata": {
  "kernelspec": {
   "display_name": "Python 3 (ipykernel)",
   "language": "python",
   "name": "python3"
  },
  "language_info": {
   "codemirror_mode": {
    "name": "ipython",
    "version": 3
   },
   "file_extension": ".py",
   "mimetype": "text/x-python",
   "name": "python",
   "nbconvert_exporter": "python",
   "pygments_lexer": "ipython3",
   "version": "3.9.6"
  }
 },
 "nbformat": 4,
 "nbformat_minor": 5
}

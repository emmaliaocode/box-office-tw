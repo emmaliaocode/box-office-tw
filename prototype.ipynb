{
 "cells": [
  {
   "cell_type": "code",
   "execution_count": 1,
   "id": "a2583106-0157-4b58-b79e-26226f2decae",
   "metadata": {},
   "outputs": [],
   "source": [
    "import requests\n",
    "import pandas as pd\n",
    "from glom import glom\n",
    "import matplotlib.pyplot as plt\n",
    "import os"
   ]
  },
  {
   "cell_type": "markdown",
   "id": "2c86e86f-690a-4c61-b296-684050a231c0",
   "metadata": {
    "tags": []
   },
   "source": [
    "## Part 0. Download box office dataset & Data pre-processing"
   ]
  },
  {
   "cell_type": "markdown",
   "id": "bb33d13c-564e-4b82-9215-590bafacc75d",
   "metadata": {
    "tags": []
   },
   "source": [
    "### 0.0. Download box office dataset"
   ]
  },
  {
   "cell_type": "markdown",
   "id": "5e049525-f581-4249-a268-fb9c24f843ea",
   "metadata": {},
   "source": [
    "Send a request to [data.gov.tw](https://data.gov.tw/) to get the download list of datasets."
   ]
  },
  {
   "cell_type": "code",
   "execution_count": 2,
   "id": "accaaebc-ef38-4d2d-b352-b701393ed76f",
   "metadata": {},
   "outputs": [],
   "source": [
    "response = requests.get(\"https://data.gov.tw/api/v2/rest/dataset/94224\")\n",
    "response_results = response.json()[\"result\"][\"distribution\"]"
   ]
  },
  {
   "cell_type": "markdown",
   "id": "a6e7fee5-409e-471d-9e5e-22c9a46e97c2",
   "metadata": {},
   "source": [
    "An example of the records in `response_results`:\n",
    "> ```\n",
    "> [{'resourceDescription': '2018年7月30日至8月5日全國電影票房統計數據',\n",
    ">    'resourceField': [{'name': '序號', 'description': ''},\n",
    ">     {'name': '國別地區', 'description': ''},\n",
    ">     {'name': '中文片名', 'description': ''},\n",
    ">     {'name': '上映日期', 'description': ''},\n",
    ">     {'name': '申請人', 'description': ''},\n",
    ">     {'name': '出品', 'description': ''},\n",
    ">     {'name': '上映院數', 'description': ''},\n",
    ">     {'name': '銷售票數', 'description': ''},\n",
    ">     {'name': '銷售金額', 'description': ''},\n",
    ">     {'name': '累計銷售票數', 'description': ''},\n",
    ">     {'name': '累計銷售金額', 'description': ''}],\n",
    ">    'qcLevel': '',\n",
    ">    'resourceFormat': 'CSV',\n",
    ">    'resourceCharacterEncoding': 'UTF-8',\n",
    ">    'resourceModifiedDate': '2022-09-30 14:05:28',\n",
    ">    'resourceDownloadUrl': 'https://opendata.culture.tw/upload/dataSource/2018-08-09/1c3753a5-50f4-44f8-a75b-2b4d0dd2a143/69c6f154369fc266e8a3593f83d3b444.csv',\n",
    ">    'resourceAmount': 241,\n",
    ">    'resourceNotes': '',\n",
    ">    'resourceRequestMethod': '',\n",
    ">    'resourceOasUrl': '',\n",
    ">    'resourceRequestParameters': []\n",
    ">   },\n",
    ">    ...\n",
    ">  ]\n",
    ">  ```"
   ]
  },
  {
   "cell_type": "markdown",
   "id": "0e715806-edc5-40e6-9d5d-eb968aa1c8fa",
   "metadata": {},
   "source": [
    "We will use the value from `resourceDownloadUrl` of `response_results` to download the box office statistics of each week."
   ]
  },
  {
   "cell_type": "markdown",
   "id": "87613393-123b-45a7-8190-36b0cb96f8f6",
   "metadata": {},
   "source": [
    "Note that some of the datasets were stored with JSON as well as CSV. For example `response_results[96]` and `response_results[97]` represent the same dataset, one was stored with CSV, the other was stored with JSON."
   ]
  },
  {
   "cell_type": "code",
   "execution_count": 3,
   "id": "bdbb31b7-3a6b-4d9e-93aa-ddb15701c3a7",
   "metadata": {},
   "outputs": [
    {
     "name": "stdout",
     "output_type": "stream",
     "text": [
      "response_results[96]:  2020年6月1日至2020年6月7日全國電影票房統計數據 \n",
      "response_results[97]:  2020年6月1日至2020年6月7日全國電影票房統計數據JSON格式 \n",
      "\n"
     ]
    }
   ],
   "source": [
    "print(\"response_results[96]: \", response_results[96][\"resourceDescription\"], \"\\n\"\n",
    "      \"response_results[97]: \", response_results[97][\"resourceDescription\"], \"\\n\")"
   ]
  },
  {
   "cell_type": "markdown",
   "id": "6d5b64ff-1bdc-47d8-a7d1-ce8dc6c9769c",
   "metadata": {},
   "source": [
    "So we must not include the duplicated JSON datasets.\n",
    "\n",
    "The for loop below completes the follow things: first of all, distinguish if it is not a duplicated JSON dataset, if not:\n",
    "1. get the download URL of each dataset from `resourceDownloadUrl` and import the CSV with the URLs\n",
    "2. store the statistical started dates of each dataset as a new column, `統計起始日`\n",
    "3. concatenate all CSVs"
   ]
  },
  {
   "cell_type": "code",
   "execution_count": 4,
   "id": "c9f97aa8-18fd-4197-a010-e6216ffe1565",
   "metadata": {},
   "outputs": [],
   "source": [
    "urls = []\n",
    "data_list = []\n",
    "for ii in range(len(response_results)):\n",
    "    filename = response_results[ii][\"resourceDescription\"]\n",
    "    if \"JSON格式\" not in filename:\n",
    "        start_date = filename.split(\"至\")[0]\n",
    "        start_date = start_date.replace(\"年\", \"/\").replace(\"月\", \"/\").replace(\"日\", \"\")\n",
    "        url = response_results[ii][\"resourceDownloadUrl\"]\n",
    "        urls.append(url)\n",
    "        table = pd.read_csv(url)\n",
    "        table[\"統計起始日\"] = start_date\n",
    "        data_list.append(table)\n",
    "\n",
    "data = pd.concat(data_list, axis = 0)"
   ]
  },
  {
   "cell_type": "code",
   "execution_count": 5,
   "id": "374c4be5-f7aa-4f67-ae11-1422f28dc456",
   "metadata": {},
   "outputs": [],
   "source": [
    "# data"
   ]
  },
  {
   "cell_type": "markdown",
   "id": "185f954b-3cde-410c-bfe1-ed50bbf3b7fe",
   "metadata": {
    "tags": []
   },
   "source": [
    "### 0.1. Data pre-processing"
   ]
  },
  {
   "cell_type": "markdown",
   "id": "a7aeed36-263e-4130-9c61-2949476b208d",
   "metadata": {},
   "source": [
    "Keep only the columns that will be used in the analysis later."
   ]
  },
  {
   "cell_type": "code",
   "execution_count": 6,
   "id": "9c19ecb6-fd71-496f-9e59-02bfb0c6ff9d",
   "metadata": {},
   "outputs": [],
   "source": [
    "columns = [\"統計起始日\", \"上映日期\", \"中文片名\", \"國別地區\", \"上映院數\", \"累計銷售票數\", \"累計銷售金額\"]\n",
    "df = data[columns]"
   ]
  },
  {
   "cell_type": "markdown",
   "id": "e3cf15e4-fd9d-4b1b-a9ec-a52671a7abef",
   "metadata": {},
   "source": [
    "Deal with the dataset bug. One record has date format error: `df[\"上映日期\"][4829]` returns `\"2019/0807\"`."
   ]
  },
  {
   "cell_type": "code",
   "execution_count": 7,
   "id": "166c031b-ecc2-457c-9d3e-5c99d4a1ddba",
   "metadata": {},
   "outputs": [],
   "source": [
    "df = df.replace({ \"上映日期\": \"2019/0807\" }, \"2019/08/07\")"
   ]
  },
  {
   "cell_type": "markdown",
   "id": "01ecad04-808d-49bc-b86b-89d96a4a0e3c",
   "metadata": {},
   "source": [
    "Output to a CSV file."
   ]
  },
  {
   "cell_type": "code",
   "execution_count": 8,
   "id": "283a7c62-e12c-4e32-a86d-022316e2ef33",
   "metadata": {},
   "outputs": [],
   "source": [
    "# df.to_csv(\"./data/box_office_dataset.csv\", index = False)"
   ]
  },
  {
   "cell_type": "markdown",
   "id": "60735a39-cf44-4170-a931-376d365acc20",
   "metadata": {},
   "source": [
    "## Part 1. Import dataset"
   ]
  },
  {
   "cell_type": "code",
   "execution_count": null,
   "id": "60ac2d36-b9ea-4af0-b11a-7bef85ccb904",
   "metadata": {},
   "outputs": [],
   "source": [
    "df = pd.read_csv(\"./data/box_office_dataset.csv\")"
   ]
  },
  {
   "cell_type": "markdown",
   "id": "6fbb050a-b242-47c0-8107-56afbf302497",
   "metadata": {},
   "source": [
    "Change data types of `統計起始日` and `上映日期` to **datetime64**, and change data types of `累計銷售票數` and `累計銷售金額` to **Int64** and **Float64**, respectively."
   ]
  },
  {
   "cell_type": "code",
   "execution_count": 9,
   "id": "608ce428-4db8-45e8-939d-1760fdaaabeb",
   "metadata": {},
   "outputs": [],
   "source": [
    "df[\"統計起始日\"] = pd.to_datetime(df[\"統計起始日\"])\n",
    "df[\"上映日期\"] = pd.to_datetime(df[\"上映日期\"])\n",
    "df[\"累計銷售票數\"] = pd.to_numeric(df[\"累計銷售票數\"].str.replace(\",\", '')).astype(\"Int64\")\n",
    "df[\"累計銷售金額\"] = pd.to_numeric(df[\"累計銷售金額\"].str.replace(\",\", '')).astype(\"Float64\")"
   ]
  },
  {
   "cell_type": "code",
   "execution_count": 10,
   "id": "ec85db71-3393-4e7a-9a37-862d8644046e",
   "metadata": {},
   "outputs": [
    {
     "data": {
      "text/plain": [
       "統計起始日     datetime64[ns]\n",
       "上映日期      datetime64[ns]\n",
       "中文片名              object\n",
       "國別地區              object\n",
       "上映院數               int64\n",
       "累計銷售票數             Int64\n",
       "累計銷售金額           Float64\n",
       "dtype: object"
      ]
     },
     "execution_count": 10,
     "metadata": {},
     "output_type": "execute_result"
    }
   ],
   "source": [
    "df.dtypes"
   ]
  },
  {
   "cell_type": "code",
   "execution_count": 11,
   "id": "41b1d07a-5859-41bf-80a8-389d21ae9f84",
   "metadata": {},
   "outputs": [],
   "source": [
    "# df"
   ]
  },
  {
   "cell_type": "markdown",
   "id": "c292a81d-f178-47f5-8ca5-b93790266f21",
   "metadata": {},
   "source": [
    "## Part 2. Analysis\n",
    "Subjects:\n",
    "1. Best box office of the year/month/week\n",
    "2. \n",
    "\n",
    "`df` represents the original data while `df_dedup` represents the data that deduplicated `中文片名` from original data."
   ]
  },
  {
   "cell_type": "markdown",
   "id": "69b8b41e-e9a4-44a2-8910-676f46c76c4d",
   "metadata": {
    "tags": []
   },
   "source": [
    "### 2.0. Remove duplicate movies"
   ]
  },
  {
   "cell_type": "markdown",
   "id": "2395e7b0-4ac2-4177-ab9d-f7289f53f8b1",
   "metadata": {},
   "source": [
    "Remove duplicate movies, keep the record with highest `累計銷售金額`."
   ]
  },
  {
   "cell_type": "code",
   "execution_count": 12,
   "id": "b92eb91e-57b1-4896-bb09-d27262c9498a",
   "metadata": {},
   "outputs": [],
   "source": [
    "df_dedup = df.drop_duplicates(subset = \"中文片名\", keep = \"last\")"
   ]
  },
  {
   "cell_type": "code",
   "execution_count": 13,
   "id": "60853d4b-801c-4504-be2a-5f65516589cb",
   "metadata": {},
   "outputs": [
    {
     "data": {
      "text/html": [
       "<div>\n",
       "<style scoped>\n",
       "    .dataframe tbody tr th:only-of-type {\n",
       "        vertical-align: middle;\n",
       "    }\n",
       "\n",
       "    .dataframe tbody tr th {\n",
       "        vertical-align: top;\n",
       "    }\n",
       "\n",
       "    .dataframe thead th {\n",
       "        text-align: right;\n",
       "    }\n",
       "</style>\n",
       "<table border=\"1\" class=\"dataframe\">\n",
       "  <thead>\n",
       "    <tr style=\"text-align: right;\">\n",
       "      <th></th>\n",
       "      <th>統計起始日</th>\n",
       "      <th>上映日期</th>\n",
       "      <th>中文片名</th>\n",
       "      <th>國別地區</th>\n",
       "      <th>上映院數</th>\n",
       "      <th>累計銷售票數</th>\n",
       "      <th>累計銷售金額</th>\n",
       "    </tr>\n",
       "  </thead>\n",
       "  <tbody>\n",
       "    <tr>\n",
       "      <th>17</th>\n",
       "      <td>2018-07-30</td>\n",
       "      <td>2018-07-20</td>\n",
       "      <td>鬼太鼓座</td>\n",
       "      <td>日本</td>\n",
       "      <td>4</td>\n",
       "      <td>784</td>\n",
       "      <td>166729.0</td>\n",
       "    </tr>\n",
       "    <tr>\n",
       "      <th>20</th>\n",
       "      <td>2018-07-30</td>\n",
       "      <td>2018-07-20</td>\n",
       "      <td>阿寶動物一族</td>\n",
       "      <td>法國</td>\n",
       "      <td>1</td>\n",
       "      <td>233</td>\n",
       "      <td>46465.0</td>\n",
       "    </tr>\n",
       "    <tr>\n",
       "      <th>27</th>\n",
       "      <td>2018-07-30</td>\n",
       "      <td>2018-07-13</td>\n",
       "      <td>簡單的婚禮</td>\n",
       "      <td>新加坡</td>\n",
       "      <td>1</td>\n",
       "      <td>1021</td>\n",
       "      <td>224910.0</td>\n",
       "    </tr>\n",
       "    <tr>\n",
       "      <th>34</th>\n",
       "      <td>2018-07-30</td>\n",
       "      <td>2018-06-29</td>\n",
       "      <td>街角的書店</td>\n",
       "      <td>英國</td>\n",
       "      <td>1</td>\n",
       "      <td>6405</td>\n",
       "      <td>1371225.0</td>\n",
       "    </tr>\n",
       "    <tr>\n",
       "      <th>37</th>\n",
       "      <td>2018-07-30</td>\n",
       "      <td>2018-06-22</td>\n",
       "      <td>去年冬天，與你分別</td>\n",
       "      <td>日本</td>\n",
       "      <td>1</td>\n",
       "      <td>4210</td>\n",
       "      <td>917237.0</td>\n",
       "    </tr>\n",
       "    <tr>\n",
       "      <th>...</th>\n",
       "      <td>...</td>\n",
       "      <td>...</td>\n",
       "      <td>...</td>\n",
       "      <td>...</td>\n",
       "      <td>...</td>\n",
       "      <td>...</td>\n",
       "      <td>...</td>\n",
       "    </tr>\n",
       "    <tr>\n",
       "      <th>101</th>\n",
       "      <td>2022-09-19</td>\n",
       "      <td>2017-12-29</td>\n",
       "      <td>發條橘子</td>\n",
       "      <td>英國</td>\n",
       "      <td>2</td>\n",
       "      <td>9332</td>\n",
       "      <td>2195054.0</td>\n",
       "    </tr>\n",
       "    <tr>\n",
       "      <th>102</th>\n",
       "      <td>2022-09-19</td>\n",
       "      <td>2014-06-13</td>\n",
       "      <td>輝耀姬物語</td>\n",
       "      <td>日本</td>\n",
       "      <td>1</td>\n",
       "      <td>810</td>\n",
       "      <td>201486.0</td>\n",
       "    </tr>\n",
       "    <tr>\n",
       "      <th>103</th>\n",
       "      <td>2022-09-19</td>\n",
       "      <td>2013-05-31</td>\n",
       "      <td>八月三十一日，我在奧斯陸</td>\n",
       "      <td>美國</td>\n",
       "      <td>1</td>\n",
       "      <td>3285</td>\n",
       "      <td>752357.0</td>\n",
       "    </tr>\n",
       "    <tr>\n",
       "      <th>104</th>\n",
       "      <td>2022-09-19</td>\n",
       "      <td>1998-10-01</td>\n",
       "      <td>海上花</td>\n",
       "      <td>中華民國</td>\n",
       "      <td>6</td>\n",
       "      <td>2458</td>\n",
       "      <td>546325.0</td>\n",
       "    </tr>\n",
       "    <tr>\n",
       "      <th>105</th>\n",
       "      <td>2022-09-19</td>\n",
       "      <td>1993-12-10</td>\n",
       "      <td>霸王別姬</td>\n",
       "      <td>香港</td>\n",
       "      <td>1</td>\n",
       "      <td>2082</td>\n",
       "      <td>489144.0</td>\n",
       "    </tr>\n",
       "  </tbody>\n",
       "</table>\n",
       "<p>2919 rows × 7 columns</p>\n",
       "</div>"
      ],
      "text/plain": [
       "         統計起始日       上映日期          中文片名  國別地區  上映院數  累計銷售票數     累計銷售金額\n",
       "17  2018-07-30 2018-07-20          鬼太鼓座    日本     4     784   166729.0\n",
       "20  2018-07-30 2018-07-20        阿寶動物一族    法國     1     233    46465.0\n",
       "27  2018-07-30 2018-07-13         簡單的婚禮   新加坡     1    1021   224910.0\n",
       "34  2018-07-30 2018-06-29         街角的書店    英國     1    6405  1371225.0\n",
       "37  2018-07-30 2018-06-22     去年冬天，與你分別    日本     1    4210   917237.0\n",
       "..         ...        ...           ...   ...   ...     ...        ...\n",
       "101 2022-09-19 2017-12-29          發條橘子    英國     2    9332  2195054.0\n",
       "102 2022-09-19 2014-06-13         輝耀姬物語    日本     1     810   201486.0\n",
       "103 2022-09-19 2013-05-31  八月三十一日，我在奧斯陸    美國     1    3285   752357.0\n",
       "104 2022-09-19 1998-10-01           海上花  中華民國     6    2458   546325.0\n",
       "105 2022-09-19 1993-12-10          霸王別姬    香港     1    2082   489144.0\n",
       "\n",
       "[2919 rows x 7 columns]"
      ]
     },
     "execution_count": 13,
     "metadata": {},
     "output_type": "execute_result"
    }
   ],
   "source": [
    "df_dedup"
   ]
  },
  {
   "cell_type": "markdown",
   "id": "9de390d6-a0bc-467c-a95c-dc20fc187a6b",
   "metadata": {
    "tags": []
   },
   "source": [
    "### 2.1. Seperate by years"
   ]
  },
  {
   "cell_type": "code",
   "execution_count": 14,
   "id": "38b9223e-7b87-48fd-8c06-3026512a9e93",
   "metadata": {},
   "outputs": [
    {
     "name": "stdout",
     "output_type": "stream",
     "text": [
      " 2018: 2111 records\n",
      " 2019: 4655 records\n",
      " 2020: 5849 records\n",
      " 2021: 3893 records\n",
      " 2022: 3415 records\n"
     ]
    }
   ],
   "source": [
    "df_2018 = df[(df[\"統計起始日\"] > \"2018-01-01\") & (df[\"統計起始日\"] <= \"2018-12-31\")]\n",
    "df_2019 = df[(df[\"統計起始日\"] > \"2019-01-01\") & (df[\"統計起始日\"] <= \"2019-12-31\")]\n",
    "df_2020 = df[(df[\"統計起始日\"] > \"2020-01-01\") & (df[\"統計起始日\"] <= \"2020-12-31\")]\n",
    "df_2021 = df[(df[\"統計起始日\"] > \"2021-01-01\") & (df[\"統計起始日\"] <= \"2021-12-31\")]\n",
    "df_2022 = df[(df[\"統計起始日\"] > \"2022-01-01\") & (df[\"統計起始日\"] <= \"2022-12-31\")]\n",
    "print(\" 2018:\", len(df_2018), \"records\\n\", \"2019:\", len(df_2019), \"records\\n\", \"2020:\", len(df_2020), \"records\\n\",\n",
    "      \"2021:\", len(df_2021), \"records\\n\", \"2022:\", len(df_2022), \"records\")"
   ]
  },
  {
   "cell_type": "markdown",
   "id": "cbe800d4-bfcf-43c1-af0c-21b455cafe66",
   "metadata": {
    "tags": []
   },
   "source": [
    "### 2.2. Sort by `統計起始日` and `累計銷售金額`"
   ]
  },
  {
   "cell_type": "code",
   "execution_count": 15,
   "id": "8be63426-33c0-429e-8fcd-ae93ebc5cc5c",
   "metadata": {},
   "outputs": [],
   "source": [
    "df_dedup_sort = df_dedup.sort_values([\"統計起始日\", \"累計銷售金額\"], ascending = False)"
   ]
  },
  {
   "cell_type": "code",
   "execution_count": 16,
   "id": "5c4940f3-3734-4705-81fb-37d89281204a",
   "metadata": {},
   "outputs": [
    {
     "data": {
      "text/html": [
       "<div>\n",
       "<style scoped>\n",
       "    .dataframe tbody tr th:only-of-type {\n",
       "        vertical-align: middle;\n",
       "    }\n",
       "\n",
       "    .dataframe tbody tr th {\n",
       "        vertical-align: top;\n",
       "    }\n",
       "\n",
       "    .dataframe thead th {\n",
       "        text-align: right;\n",
       "    }\n",
       "</style>\n",
       "<table border=\"1\" class=\"dataframe\">\n",
       "  <thead>\n",
       "    <tr style=\"text-align: right;\">\n",
       "      <th></th>\n",
       "      <th>統計起始日</th>\n",
       "      <th>上映日期</th>\n",
       "      <th>中文片名</th>\n",
       "      <th>國別地區</th>\n",
       "      <th>上映院數</th>\n",
       "      <th>累計銷售票數</th>\n",
       "      <th>累計銷售金額</th>\n",
       "    </tr>\n",
       "  </thead>\n",
       "  <tbody>\n",
       "    <tr>\n",
       "      <th>90</th>\n",
       "      <td>2022-09-19</td>\n",
       "      <td>2022-05-23</td>\n",
       "      <td>捍衛戰士: 獨行俠</td>\n",
       "      <td>美國</td>\n",
       "      <td>60</td>\n",
       "      <td>2660488</td>\n",
       "      <td>727991794.0</td>\n",
       "    </tr>\n",
       "    <tr>\n",
       "      <th>88</th>\n",
       "      <td>2022-09-19</td>\n",
       "      <td>2022-06-08</td>\n",
       "      <td>侏羅紀世界: 統霸天下</td>\n",
       "      <td>美國</td>\n",
       "      <td>7</td>\n",
       "      <td>1277581</td>\n",
       "      <td>334089877.0</td>\n",
       "    </tr>\n",
       "    <tr>\n",
       "      <th>93</th>\n",
       "      <td>2022-09-19</td>\n",
       "      <td>2022-05-04</td>\n",
       "      <td>奇異博士2：失控多重宇宙</td>\n",
       "      <td>美國</td>\n",
       "      <td>2</td>\n",
       "      <td>930994</td>\n",
       "      <td>244508155.0</td>\n",
       "    </tr>\n",
       "    <tr>\n",
       "      <th>55</th>\n",
       "      <td>2022-09-19</td>\n",
       "      <td>2022-08-13</td>\n",
       "      <td>航海王劇場版 : 紅髮歌姬</td>\n",
       "      <td>日本</td>\n",
       "      <td>96</td>\n",
       "      <td>631231</td>\n",
       "      <td>167542759.0</td>\n",
       "    </tr>\n",
       "    <tr>\n",
       "      <th>70</th>\n",
       "      <td>2022-09-19</td>\n",
       "      <td>2022-07-20</td>\n",
       "      <td>小小兵2:格魯的崛起</td>\n",
       "      <td>美國</td>\n",
       "      <td>43</td>\n",
       "      <td>592246</td>\n",
       "      <td>146162905.0</td>\n",
       "    </tr>\n",
       "    <tr>\n",
       "      <th>...</th>\n",
       "      <td>...</td>\n",
       "      <td>...</td>\n",
       "      <td>...</td>\n",
       "      <td>...</td>\n",
       "      <td>...</td>\n",
       "      <td>...</td>\n",
       "      <td>...</td>\n",
       "    </tr>\n",
       "    <tr>\n",
       "      <th>49</th>\n",
       "      <td>2018-07-30</td>\n",
       "      <td>2018-06-01</td>\n",
       "      <td>暴動之城</td>\n",
       "      <td>法國</td>\n",
       "      <td>1</td>\n",
       "      <td>2811</td>\n",
       "      <td>596535.0</td>\n",
       "    </tr>\n",
       "    <tr>\n",
       "      <th>27</th>\n",
       "      <td>2018-07-30</td>\n",
       "      <td>2018-07-13</td>\n",
       "      <td>簡單的婚禮</td>\n",
       "      <td>新加坡</td>\n",
       "      <td>1</td>\n",
       "      <td>1021</td>\n",
       "      <td>224910.0</td>\n",
       "    </tr>\n",
       "    <tr>\n",
       "      <th>42</th>\n",
       "      <td>2018-07-30</td>\n",
       "      <td>2018-06-15</td>\n",
       "      <td>大衛‧鮑伊is…</td>\n",
       "      <td>英國</td>\n",
       "      <td>1</td>\n",
       "      <td>433</td>\n",
       "      <td>170500.0</td>\n",
       "    </tr>\n",
       "    <tr>\n",
       "      <th>17</th>\n",
       "      <td>2018-07-30</td>\n",
       "      <td>2018-07-20</td>\n",
       "      <td>鬼太鼓座</td>\n",
       "      <td>日本</td>\n",
       "      <td>4</td>\n",
       "      <td>784</td>\n",
       "      <td>166729.0</td>\n",
       "    </tr>\n",
       "    <tr>\n",
       "      <th>20</th>\n",
       "      <td>2018-07-30</td>\n",
       "      <td>2018-07-20</td>\n",
       "      <td>阿寶動物一族</td>\n",
       "      <td>法國</td>\n",
       "      <td>1</td>\n",
       "      <td>233</td>\n",
       "      <td>46465.0</td>\n",
       "    </tr>\n",
       "  </tbody>\n",
       "</table>\n",
       "<p>2919 rows × 7 columns</p>\n",
       "</div>"
      ],
      "text/plain": [
       "        統計起始日       上映日期           中文片名 國別地區  上映院數   累計銷售票數       累計銷售金額\n",
       "90 2022-09-19 2022-05-23      捍衛戰士: 獨行俠   美國    60  2660488  727991794.0\n",
       "88 2022-09-19 2022-06-08    侏羅紀世界: 統霸天下   美國     7  1277581  334089877.0\n",
       "93 2022-09-19 2022-05-04   奇異博士2：失控多重宇宙   美國     2   930994  244508155.0\n",
       "55 2022-09-19 2022-08-13  航海王劇場版 : 紅髮歌姬   日本    96   631231  167542759.0\n",
       "70 2022-09-19 2022-07-20     小小兵2:格魯的崛起   美國    43   592246  146162905.0\n",
       "..        ...        ...            ...  ...   ...      ...          ...\n",
       "49 2018-07-30 2018-06-01           暴動之城   法國     1     2811     596535.0\n",
       "27 2018-07-30 2018-07-13          簡單的婚禮  新加坡     1     1021     224910.0\n",
       "42 2018-07-30 2018-06-15       大衛‧鮑伊is…   英國     1      433     170500.0\n",
       "17 2018-07-30 2018-07-20           鬼太鼓座   日本     4      784     166729.0\n",
       "20 2018-07-30 2018-07-20         阿寶動物一族   法國     1      233      46465.0\n",
       "\n",
       "[2919 rows x 7 columns]"
      ]
     },
     "execution_count": 16,
     "metadata": {},
     "output_type": "execute_result"
    }
   ],
   "source": [
    "df_dedup_sort"
   ]
  },
  {
   "cell_type": "markdown",
   "id": "83d1f5e6-8af9-4daf-b053-6c3eddb7c274",
   "metadata": {},
   "source": [
    "## Part3. Applications"
   ]
  },
  {
   "cell_type": "markdown",
   "id": "ed28e93b-5922-4b9f-bf5c-cad4c8a2f52e",
   "metadata": {},
   "source": [
    "Data visualization with [bokeh](https://demo.bokeh.org/).\n",
    "\n",
    "https://demo.bokeh.org/movies"
   ]
  },
  {
   "cell_type": "markdown",
   "id": "7d4d07ee-bf0c-4299-a9a7-e3f98f35768f",
   "metadata": {},
   "source": [
    "---"
   ]
  },
  {
   "cell_type": "markdown",
   "id": "aae82717-1903-4a8d-a4a8-e8db95e3a2bf",
   "metadata": {},
   "source": [
    "## 台灣上映的電影都是來自哪些國家？"
   ]
  },
  {
   "cell_type": "code",
   "execution_count": null,
   "id": "bc05bf11-8a9b-4369-9a73-7e97a9ae1049",
   "metadata": {},
   "outputs": [],
   "source": [
    "import matplotlib as mpl\n",
    "mpl.rcParams['font.family'] = ['Heiti TC']"
   ]
  },
  {
   "cell_type": "code",
   "execution_count": null,
   "id": "181eb8c5-b782-448e-9274-2cbf0c67a017",
   "metadata": {},
   "outputs": [],
   "source": [
    "country = dt4['國別地區'].value_counts()"
   ]
  },
  {
   "cell_type": "code",
   "execution_count": null,
   "id": "200fe327-fda5-458a-b30d-42dd049f9130",
   "metadata": {},
   "outputs": [],
   "source": [
    "country['其他'] = country[country < 10].sum()\n",
    "country_plt = country[country > 10]"
   ]
  },
  {
   "cell_type": "code",
   "execution_count": null,
   "id": "08382777-b714-4770-b433-f02c2da98218",
   "metadata": {},
   "outputs": [],
   "source": [
    "country_plt.plot(kind = 'pie', figsize = (6, 6), title = '在台灣上映的電影都是來自哪些國家？', \n",
    "                 autopct = '%1.0f%%', cmap = 'Set3', fontsize = 12)"
   ]
  },
  {
   "cell_type": "markdown",
   "id": "d6511e18-33ef-42a4-a0a1-01383519bf20",
   "metadata": {},
   "source": [
    "---"
   ]
  },
  {
   "cell_type": "markdown",
   "id": "c251162f-a6eb-4ea7-8443-07f6cab8afbb",
   "metadata": {},
   "source": [
    "## 過去一年內票房排行前20名的電影"
   ]
  },
  {
   "cell_type": "code",
   "execution_count": null,
   "id": "f1c40f90-ec55-43ce-8ae7-34ab4c96f1fb",
   "metadata": {},
   "outputs": [],
   "source": [
    "top20movies = dt4.sort_values('累計銷售金額', ascending=False)[:20]"
   ]
  },
  {
   "cell_type": "code",
   "execution_count": null,
   "id": "3182dd79-4a00-4d9a-87b8-80303b3405fe",
   "metadata": {},
   "outputs": [],
   "source": [
    "top20movies"
   ]
  },
  {
   "cell_type": "markdown",
   "id": "959e7c84-5d88-4ef8-8902-ee362a9108bf",
   "metadata": {},
   "source": [
    "---"
   ]
  },
  {
   "cell_type": "markdown",
   "id": "bae20994-0e94-4ef2-a2ab-bedece31ca8d",
   "metadata": {},
   "source": [
    "## 2019過了三個月，目前票房排名前10名的電影"
   ]
  },
  {
   "cell_type": "code",
   "execution_count": null,
   "id": "1e381b8e-5d89-430b-b746-d54e91d7af9a",
   "metadata": {},
   "outputs": [],
   "source": [
    "dt5 = dt4[(dt4['上映日期'] > '2019-01-01') & (dt4['上映日期'] <= '2019-03-23')] #撈出今年到目前上映的電影\n",
    "dt6 = dt5.sort_values(['中文片名'], ascending = False)"
   ]
  },
  {
   "cell_type": "code",
   "execution_count": null,
   "id": "ff096f47-77f6-4cb8-be8a-cc576cc5d6d4",
   "metadata": {},
   "outputs": [],
   "source": [
    "dt7 = dt6.drop_duplicates(subset = '中文片名', keep = 'last')"
   ]
  },
  {
   "cell_type": "code",
   "execution_count": null,
   "id": "39ac5250-336b-4fb8-b7d5-b5dec9054629",
   "metadata": {},
   "outputs": [],
   "source": [
    "top10in2019 = dt7.sort_values('累計銷售金額', ascending = False)[:10]"
   ]
  },
  {
   "cell_type": "code",
   "execution_count": null,
   "id": "91d8d5ec-8178-4d6a-8f61-dfa90ff551cc",
   "metadata": {},
   "outputs": [],
   "source": [
    "top10in2019"
   ]
  },
  {
   "cell_type": "markdown",
   "id": "9f307055-66c9-47f3-bb70-e676f507d306",
   "metadata": {},
   "source": [
    "---"
   ]
  },
  {
   "cell_type": "markdown",
   "id": "eb4b5b30-b2c7-481b-8943-9ee5ca48c9db",
   "metadata": {},
   "source": [
    "## 在台灣看一部電影平均要花多少錢？"
   ]
  },
  {
   "cell_type": "code",
   "execution_count": null,
   "id": "77ba2946-c889-4085-bd3d-04e2b35af127",
   "metadata": {},
   "outputs": [],
   "source": [
    "cost = dt4['累計銷售金額'].sum()\n",
    "ticket = dt4['累計銷售票數'].sum()\n",
    "spend = cost/ticket\n",
    "print(f'在台灣，平均花 {spend:.2f} 元就可以看一部電影！')"
   ]
  },
  {
   "cell_type": "code",
   "execution_count": null,
   "id": "76ef17f0-0a15-4412-be75-ff4737b7dc51",
   "metadata": {},
   "outputs": [],
   "source": []
  }
 ],
 "metadata": {
  "kernelspec": {
   "display_name": "Python 3 (ipykernel)",
   "language": "python",
   "name": "python3"
  },
  "language_info": {
   "codemirror_mode": {
    "name": "ipython",
    "version": 3
   },
   "file_extension": ".py",
   "mimetype": "text/x-python",
   "name": "python",
   "nbconvert_exporter": "python",
   "pygments_lexer": "ipython3",
   "version": "3.9.6"
  }
 },
 "nbformat": 4,
 "nbformat_minor": 5
}
